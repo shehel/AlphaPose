{
 "cells": [
  {
   "cell_type": "markdown",
   "metadata": {},
   "source": [
    "Code to convert a cocos format annotation file to h5 format that AlphaPose uses"
   ]
  },
  {
   "cell_type": "code",
   "execution_count": 5,
   "metadata": {},
   "outputs": [],
   "source": [
    "import h5py\n",
    "from pycocotools.coco import COCO\n",
    "import numpy as np\n",
    "import pandas as pd"
   ]
  },
  {
   "cell_type": "code",
   "execution_count": 4,
   "metadata": {},
   "outputs": [
    {
     "name": "stdout",
     "output_type": "stream",
     "text": [
      "2.9.0\n"
     ]
    }
   ],
   "source": [
    "print (h5py.__version__)"
   ]
  },
  {
   "cell_type": "markdown",
   "metadata": {},
   "source": [
    "Inspect a final file"
   ]
  },
  {
   "cell_type": "code",
   "execution_count": 3,
   "metadata": {
    "ExecuteTime": {
     "end_time": "2019-02-21T16:13:39.798019Z",
     "start_time": "2019-02-21T16:13:39.713389Z"
    }
   },
   "outputs": [],
   "source": [
    "f = h5py.File('annot_coco_foot_t.h5', 'r')"
   ]
  },
  {
   "cell_type": "code",
   "execution_count": 155,
   "metadata": {
    "ExecuteTime": {
     "end_time": "2019-01-20T18:44:37.433217Z",
     "start_time": "2019-01-20T18:44:37.430811Z"
    }
   },
   "outputs": [
    {
     "data": {
      "text/plain": [
       "['bndbox', 'imgname', 'part']"
      ]
     },
     "execution_count": 155,
     "metadata": {},
     "output_type": "execute_result"
    }
   ],
   "source": [
    "list(f.keys())"
   ]
  },
  {
   "cell_type": "code",
   "execution_count": 156,
   "metadata": {
    "ExecuteTime": {
     "end_time": "2019-01-20T18:45:00.925149Z",
     "start_time": "2019-01-20T18:45:00.922907Z"
    }
   },
   "outputs": [],
   "source": [
    "dset1x = f['imgname']\n",
    "dset2x = f['bndbox']\n",
    "dset3x = f['part']"
   ]
  },
  {
   "cell_type": "markdown",
   "metadata": {},
   "source": [
    "Open json annotation files and extract information"
   ]
  },
  {
   "cell_type": "code",
   "execution_count": 6,
   "metadata": {
    "ExecuteTime": {
     "end_time": "2019-02-21T16:14:03.732372Z",
     "start_time": "2019-02-21T16:14:03.730284Z"
    }
   },
   "outputs": [],
   "source": [
    "dataDir='/home/hearth/ml/data/'\n",
    "dataType='train2017'\n",
    "annFile_full='{}/annotations/person_keypoints_{}.json'.format(dataDir,dataType)\n",
    "annFile_toes='{}/annotations/foot_{}.json'.format(dataDir,dataType)"
   ]
  },
  {
   "cell_type": "code",
   "execution_count": 10,
   "metadata": {
    "ExecuteTime": {
     "end_time": "2019-02-21T16:14:10.362146Z",
     "start_time": "2019-02-21T16:14:10.358301Z"
    }
   },
   "outputs": [],
   "source": [
    "def extract_info(annFile):\n",
    "    coco=COCO(annFile)\n",
    "    cats = coco.loadCats(coco.getCatIds())\n",
    "    nms=[cat['name'] for cat in cats]\n",
    "    #print('COCO categories: \\n{}\\n'.format(' '.join(nms)))\n",
    "\n",
    "    nms = set([cat['supercategory'] for cat in cats])\n",
    "    #print('COCO supercategories: \\n{}'.format(' '.join(nms)))\n",
    "\n",
    "    catIds = coco.getCatIds(catNms=['person']);\n",
    "    imgIds = coco.getImgIds(catIds=catIds );\n",
    "\n",
    "    annIds = coco.getAnnIds(imgIds=imgIds)\n",
    "    anns = coco.loadAnns(annIds)\n",
    "\n",
    "    imgs = [anns[x]['image_id'] for x in range(len(anns))]\n",
    "    imgs = [str(img).rjust(12, '0')+'.jpg' for img in imgs]\n",
    "\n",
    "    conv =[np.asarray([ord(ch) for ch in img]) for img in imgs]\n",
    "    bbox = [np.asarray(anns[x]['bbox']) for x in range(len(anns))]\n",
    "\n",
    "    conv = np.array(conv)\n",
    "    keypoints = [anns[x]['keypoints'] for x in range(len(anns))]\n",
    "\n",
    "    return (imgs, conv, bbox, keypoints)"
   ]
  },
  {
   "cell_type": "code",
   "execution_count": 16,
   "metadata": {},
   "outputs": [
    {
     "name": "stdout",
     "output_type": "stream",
     "text": [
      "loading annotations into memory...\n",
      "Done (t=0.45s)\n",
      "creating index...\n",
      "index created!\n"
     ]
    }
   ],
   "source": [
    "imgs, conv, bbox, keypts = extract_info(annFile_toes)"
   ]
  },
  {
   "cell_type": "code",
   "execution_count": 17,
   "metadata": {},
   "outputs": [],
   "source": [
    "keypts= np.array(keypts)"
   ]
  },
  {
   "cell_type": "code",
   "execution_count": 18,
   "metadata": {},
   "outputs": [],
   "source": [
    "bbox = np.array(bbox)"
   ]
  },
  {
   "cell_type": "code",
   "execution_count": 134,
   "metadata": {
    "ExecuteTime": {
     "end_time": "2019-01-20T18:42:41.592801Z",
     "start_time": "2019-01-20T18:42:41.590318Z"
    }
   },
   "outputs": [],
   "source": [
    "f = h5py.File(\"annot_coco_foot_train.h5\", \"w\")"
   ]
  },
  {
   "cell_type": "code",
   "execution_count": 19,
   "metadata": {},
   "outputs": [],
   "source": [
    "bbox=bbox.reshape((14758,1,4))"
   ]
  },
  {
   "cell_type": "code",
   "execution_count": 135,
   "metadata": {
    "ExecuteTime": {
     "end_time": "2019-01-20T18:43:51.037807Z",
     "start_time": "2019-01-20T18:43:51.029234Z"
    }
   },
   "outputs": [],
   "source": [
    "dsetx = f.create_dataset(\"part\", data=keypts)"
   ]
  },
  {
   "cell_type": "code",
   "execution_count": 136,
   "metadata": {},
   "outputs": [],
   "source": [
    "dsety = f.create_dataset(\"imgname\", data=conv)"
   ]
  },
  {
   "cell_type": "code",
   "execution_count": 150,
   "metadata": {},
   "outputs": [],
   "source": [
    "dsetz = f.create_dataset(\"bndbox\", data=bbox)"
   ]
  },
  {
   "cell_type": "code",
   "execution_count": 152,
   "metadata": {},
   "outputs": [],
   "source": [
    "f.close()"
   ]
  },
  {
   "cell_type": "markdown",
   "metadata": {},
   "source": [
    "## If combining/merging two dataset is required (Not required for CMU toes dataset)"
   ]
  },
  {
   "cell_type": "code",
   "execution_count": 16,
   "metadata": {
    "ExecuteTime": {
     "end_time": "2019-02-21T16:14:32.086600Z",
     "start_time": "2019-02-21T16:14:32.079524Z"
    }
   },
   "outputs": [],
   "source": [
    "percentile_list1 = pd.DataFrame(\n",
    "    {'imgs': imgs,\n",
    "     'bbox': bbox,\n",
    "     'keypts': keypoints\n",
    "    })"
   ]
  },
  {
   "cell_type": "code",
   "execution_count": 67,
   "metadata": {
    "ExecuteTime": {
     "end_time": "2019-01-20T10:35:08.343630Z",
     "start_time": "2019-01-20T10:35:08.315566Z"
    }
   },
   "outputs": [],
   "source": [
    "percentile_list1[['b1','b2', 'b3', 'b4']] = pd.DataFrame(percentile_list1.bbox.values.tolist(), index= percentile_list1.index)\n",
    "#print (percentile_list1)"
   ]
  },
  {
   "cell_type": "code",
   "execution_count": 68,
   "metadata": {
    "ExecuteTime": {
     "end_time": "2019-01-20T10:35:17.913662Z",
     "start_time": "2019-01-20T10:35:17.897174Z"
    },
    "scrolled": true
   },
   "outputs": [],
   "source": [
    "merged = pd.merge(percentile_list1, percentile_list, on=['b1', 'b2', 'b3', 'b4'])"
   ]
  },
  {
   "cell_type": "code",
   "execution_count": 74,
   "metadata": {
    "ExecuteTime": {
     "end_time": "2019-01-20T10:35:21.862898Z",
     "start_time": "2019-01-20T10:35:21.856103Z"
    }
   },
   "outputs": [],
   "source": [
    "#merged['combined'] = merged['keypts_x']+merged['keypts_y']"
   ]
  },
  {
   "cell_type": "code",
   "execution_count": 93,
   "metadata": {
    "ExecuteTime": {
     "end_time": "2019-01-20T18:34:02.597541Z",
     "start_time": "2019-01-20T18:34:02.480781Z"
    }
   },
   "outputs": [],
   "source": [
    "keypts = [np.array([keypoints[x][i:i + 2] for i in range(0, len(keypoints[x]), 3)]) for x in range(len(keypoints))] "
   ]
  },
  {
   "cell_type": "code",
   "execution_count": null,
   "metadata": {
    "ExecuteTime": {
     "end_time": "2019-01-20T17:13:42.547421Z",
     "start_time": "2019-01-20T17:13:42.411200Z"
    }
   },
   "outputs": [],
   "source": [
    "keypts = [np.array([merged['combined'][x][i:i + 2] for i in range(0, len(merged['combined'][x]), 3)]) for x in range(len(merged['combined']))] "
   ]
  },
  {
   "cell_type": "code",
   "execution_count": null,
   "metadata": {
    "ExecuteTime": {
     "end_time": "2019-01-20T10:36:42.354152Z",
     "start_time": "2019-01-20T10:36:42.349058Z"
    }
   },
   "outputs": [],
   "source": [
    "merged['keypts_y'][0]"
   ]
  },
  {
   "cell_type": "code",
   "execution_count": null,
   "metadata": {
    "ExecuteTime": {
     "end_time": "2019-01-20T10:36:01.023362Z",
     "start_time": "2019-01-20T10:36:01.020273Z"
    }
   },
   "outputs": [],
   "source": [
    "len(merged['combined'][0])"
   ]
  },
  {
   "cell_type": "code",
   "execution_count": null,
   "metadata": {
    "ExecuteTime": {
     "end_time": "2019-01-20T09:56:11.514203Z",
     "start_time": "2019-01-20T09:56:11.489493Z"
    }
   },
   "outputs": [],
   "source": [
    "merged.loc[merged['imgs_x'] == '000000317433.jpg']"
   ]
  },
  {
   "cell_type": "code",
   "execution_count": null,
   "metadata": {
    "ExecuteTime": {
     "end_time": "2019-01-20T10:09:40.060026Z",
     "start_time": "2019-01-20T10:09:40.053697Z"
    }
   },
   "outputs": [],
   "source": [
    "percentile_list1.loc[percentile_list1['imgs'] == '000000317433.jpg']['keypts']"
   ]
  }
 ],
 "metadata": {
  "kernelspec": {
   "display_name": "Python 3",
   "language": "python",
   "name": "python3"
  },
  "language_info": {
   "codemirror_mode": {
    "name": "ipython",
    "version": 3
   },
   "file_extension": ".py",
   "mimetype": "text/x-python",
   "name": "python",
   "nbconvert_exporter": "python",
   "pygments_lexer": "ipython3",
   "version": "3.6.7"
  },
  "varInspector": {
   "cols": {
    "lenName": 16,
    "lenType": 16,
    "lenVar": 40
   },
   "kernels_config": {
    "python": {
     "delete_cmd_postfix": "",
     "delete_cmd_prefix": "del ",
     "library": "var_list.py",
     "varRefreshCmd": "print(var_dic_list())"
    },
    "r": {
     "delete_cmd_postfix": ") ",
     "delete_cmd_prefix": "rm(",
     "library": "var_list.r",
     "varRefreshCmd": "cat(var_dic_list()) "
    }
   },
   "types_to_exclude": [
    "module",
    "function",
    "builtin_function_or_method",
    "instance",
    "_Feature"
   ],
   "window_display": false
  }
 },
 "nbformat": 4,
 "nbformat_minor": 2
}
